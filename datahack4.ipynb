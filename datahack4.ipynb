{
 "cells": [
  {
   "cell_type": "code",
   "execution_count": 51,
   "metadata": {},
   "outputs": [],
   "source": [
    "import csv\n",
    "from bs4 import BeautifulSoup\n",
    "from msedge.selenium_tools import Edge, EdgeOptions\n",
    "\n",
    "def get_url(search_term):\n",
    "    template = 'https://xkcd.com/{}'\n",
    "    search_term = search_term.replace(' ', '+')\n",
    "    \n",
    "    \n",
    "    url = template.format(search_term)\n",
    "    \n",
    "    # cambiar de pagina\n",
    "    url += '{}'\n",
    "    return url\n",
    "\n",
    "def extract_record(item):\n",
    "    titulo=item.text.strip()\n",
    "    result = (titulo)\n",
    "    return result\n",
    "   \n",
    "\n",
    "\n",
    "def main(search_term):\n",
    "    options = EdgeOptions()\n",
    "    options.use_chromium =True\n",
    "    driver = Edge(options=options)\n",
    "    \n",
    "    records = []\n",
    "    url =get_url(search_term)\n",
    "    \n",
    "    for page in range(1, 10):\n",
    "        driver.get(url.format(page))\n",
    "        soup =BeautifulSoup(driver.page_source, 'html.parser')\n",
    "        \n",
    "        results = soup.find_all('div',{'id':'ctitle'}  )\n",
    "\n",
    "        for titulo in results:\n",
    "            record = extract_record(titulo)\n",
    "            if record:\n",
    "                records.append(record)\n",
    "                \n",
    "    driver.close()\n",
    "    \n",
    "    # guardando en un csv\n",
    "    with open('datahack.csv', 'w', newline='', encoding='utf-8') as f:\n",
    "        writer = csv.writer(f)\n",
    "        writer.writerow(['titulo'])\n",
    "        writer.writerows(records)\n",
    "        "
   ]
  },
  {
   "cell_type": "code",
   "execution_count": 52,
   "metadata": {},
   "outputs": [],
   "source": [
    "main('')"
   ]
  }
 ],
 "metadata": {
  "kernelspec": {
   "display_name": "Python 3",
   "language": "python",
   "name": "python3"
  },
  "language_info": {
   "codemirror_mode": {
    "name": "ipython",
    "version": 3
   },
   "file_extension": ".py",
   "mimetype": "text/x-python",
   "name": "python",
   "nbconvert_exporter": "python",
   "pygments_lexer": "ipython3",
   "version": "3.8.3"
  }
 },
 "nbformat": 4,
 "nbformat_minor": 4
}
